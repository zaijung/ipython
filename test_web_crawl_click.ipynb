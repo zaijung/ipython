{
 "cells": [
  {
   "cell_type": "code",
   "execution_count": null,
   "metadata": {
    "collapsed": true
   },
   "outputs": [],
   "source": [
    "import os\n",
    "from selenium import webdriver\n",
    "import pandas as pd\n",
    "import bs4\n",
    "import time"
   ]
  },
  {
   "cell_type": "code",
   "execution_count": null,
   "metadata": {
    "collapsed": false
   },
   "outputs": [],
   "source": [
    "driver=webdriver.Chrome()"
   ]
  },
  {
   "cell_type": "code",
   "execution_count": null,
   "metadata": {
    "collapsed": true
   },
   "outputs": [],
   "source": [
    "driver.get('http://www.kpis.or.kr/st/StAtcCd/viewAtcCd.do')"
   ]
  },
  {
   "cell_type": "code",
   "execution_count": null,
   "metadata": {
    "collapsed": true
   },
   "outputs": [],
   "source": [
    "items=[]"
   ]
  },
  {
   "cell_type": "code",
   "execution_count": null,
   "metadata": {
    "collapsed": false
   },
   "outputs": [],
   "source": [
    "html_source = driver.page_source"
   ]
  },
  {
   "cell_type": "code",
   "execution_count": null,
   "metadata": {
    "collapsed": true
   },
   "outputs": [],
   "source": [
    "soup = bs4.BeautifulSoup(html_source)"
   ]
  },
  {
   "cell_type": "code",
   "execution_count": null,
   "metadata": {
    "collapsed": false
   },
   "outputs": [],
   "source": [
    "print soup.prettify()"
   ]
  },
  {
   "cell_type": "code",
   "execution_count": null,
   "metadata": {
    "collapsed": false
   },
   "outputs": [],
   "source": [
    "tbl = soup.findAll('table')[1]"
   ]
  },
  {
   "cell_type": "code",
   "execution_count": null,
   "metadata": {
    "collapsed": false
   },
   "outputs": [],
   "source": [
    "print tbl"
   ]
  },
  {
   "cell_type": "code",
   "execution_count": null,
   "metadata": {
    "collapsed": false
   },
   "outputs": [],
   "source": [
    "tbody = tbl.find('tbody')"
   ]
  },
  {
   "cell_type": "code",
   "execution_count": null,
   "metadata": {
    "collapsed": false
   },
   "outputs": [],
   "source": [
    "tr = tbody.findAll('tr')"
   ]
  },
  {
   "cell_type": "code",
   "execution_count": null,
   "metadata": {
    "collapsed": true
   },
   "outputs": [],
   "source": [
    "print tr"
   ]
  },
  {
   "cell_type": "code",
   "execution_count": null,
   "metadata": {
    "collapsed": false
   },
   "outputs": [],
   "source": [
    "for item in tr:\n",
    "    td = item.findAll('td')\n",
    "    c1 = td[1].text\n",
    "    c2 = td[2]['title']\n",
    "    c3 = td[3]['title']\n",
    "    c4 = td[4].text\n",
    "    c5 = td[5].text\n",
    "    c6 = td[6].text\n",
    "    items.append({'품목기준코드':c1, '업체명':c2, '제품명':c3, '대표코드':c4, 'ATC코드':c5, '전문/일반':c6})"
   ]
  },
  {
   "cell_type": "code",
   "execution_count": null,
   "metadata": {
    "collapsed": false
   },
   "outputs": [],
   "source": [
    "print [i for i in items]"
   ]
  },
  {
   "cell_type": "code",
   "execution_count": null,
   "metadata": {
    "collapsed": false
   },
   "outputs": [],
   "source": [
    "df = pd.DataFrame(items, columns=('품목기준코드', '업체명', '제품명', '대표코드', 'ATC코드', '전문/일반'))"
   ]
  },
  {
   "cell_type": "code",
   "execution_count": null,
   "metadata": {
    "collapsed": false
   },
   "outputs": [],
   "source": [
    "print df"
   ]
  },
  {
   "cell_type": "code",
   "execution_count": null,
   "metadata": {
    "collapsed": false
   },
   "outputs": [],
   "source": [
    "next_img = driver.find_element_by_xpath('//img[@alt=\"다음페이지\"]')\n",
    "next = next_img.find_element_by_xpath('..')\n",
    "next.click()"
   ]
  },
  {
   "cell_type": "code",
   "execution_count": null,
   "metadata": {
    "collapsed": false
   },
   "outputs": [],
   "source": [
    "for i in range(10):\n",
    "    html_source = driver.page_source.decode('utf-8')\n",
    "    soup = bs4.BeautifulSoup(html_source)\n",
    "    tbl = soup.findAll('table')[1]\n",
    "    tbody = tbl.find('tbody')\n",
    "    tr = tbody.findAll('tr')\n",
    "    for item in tr:\n",
    "        td = item.findAll('td')\n",
    "        c1 = td[1].text\n",
    "        c2 = td[2]['title']\n",
    "        c3 = td[3]['title']\n",
    "        c4 = td[4].text\n",
    "        c5 = td[5].text\n",
    "        c6 = td[6].text\n",
    "        items.append({'품목기준코드':c1, '업체명':c2, '제품명':c3, '대표코드':c4, 'ATC코드':c5, '전문/일반':c6})\n",
    "    next_img = driver.find_element_by_xpath('//img[@alt=\"다음페이지\"]')\n",
    "    next = next_img.find_element_by_xpath('..')\n",
    "    next.click()\n",
    "    time.sleep(1)\n",
    "df = pd.DataFrame(items, columns=('품목기준코드', '업체명', '제품명', '대표코드', 'ATC코드', '전문/일반'))\n",
    "print df"
   ]
  },
  {
   "cell_type": "code",
   "execution_count": 162,
   "metadata": {
    "collapsed": false
   },
   "outputs": [],
   "source": [
    "driver.close()"
   ]
  },
  {
   "cell_type": "code",
   "execution_count": null,
   "metadata": {
    "collapsed": false
   },
   "outputs": [],
   "source": [
    "df.to_csv('act.csv', encoding='utf-8', header=True, index=False)"
   ]
  },
  {
   "cell_type": "code",
   "execution_count": null,
   "metadata": {
    "collapsed": true
   },
   "outputs": [],
   "source": []
  }
 ],
 "metadata": {
  "kernelspec": {
   "display_name": "Python 2",
   "language": "python",
   "name": "python2"
  },
  "language_info": {
   "codemirror_mode": {
    "name": "ipython",
    "version": 2
   },
   "file_extension": ".py",
   "mimetype": "text/x-python",
   "name": "python",
   "nbconvert_exporter": "python",
   "pygments_lexer": "ipython2",
   "version": "2.7.9"
  }
 },
 "nbformat": 4,
 "nbformat_minor": 0
}
